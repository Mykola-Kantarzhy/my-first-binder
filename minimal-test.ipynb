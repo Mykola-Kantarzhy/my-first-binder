# minimal-test.ipynb
import matplotlib.pyplot as plt
import pandas as pd

print("Hello, Voila!")
